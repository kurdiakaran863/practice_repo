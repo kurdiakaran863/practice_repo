{
 "cells": [
  {
   "cell_type": "code",
   "execution_count": 1,
   "metadata": {},
   "outputs": [],
   "source": [
    "words = ['stacked','bored' ,'kayak', 'deified',\n",
    " 'rotator' ,'repaper', 'deed', 'peep' ,'wow' ,'noon',\n",
    " 'fried', 'turkeys', 'batton', 'tiger','lions', 'bears']\n"
   ]
  },
  {
   "cell_type": "code",
   "execution_count": 5,
   "metadata": {},
   "outputs": [
    {
     "name": "stdout",
     "output_type": "stream",
     "text": [
      "['kayak', 'deified', 'rotator', 'repaper', 'deed', 'peep', 'wow', 'noon']\n"
     ]
    }
   ],
   "source": [
    "palindrome = list(filter(lambda x: (x == \"\".join(reversed(x))), words))\n",
    "print(palindrome)"
   ]
  },
  {
   "cell_type": "code",
   "execution_count": 10,
   "metadata": {},
   "outputs": [
    {
     "name": "stdout",
     "output_type": "stream",
     "text": [
      "['stacked', 'bored', 'fried', 'turkeys', 'batton', 'tiger', 'lions', 'bears']\n"
     ]
    }
   ],
   "source": [
    "nonpalindrome = []\n",
    "for element in words:\n",
    "    if element not in palindrome:\n",
    "        nonpalindrome.append(element)\n",
    "print(nonpalindrome)"
   ]
  },
  {
   "cell_type": "code",
   "execution_count": 11,
   "metadata": {},
   "outputs": [
    {
     "name": "stdout",
     "output_type": "stream",
     "text": [
      "{'palindrome': ['kayak', 'deified', 'rotator', 'repaper', 'deed', 'peep', 'wow', 'noon'], 'non-palindrome': ['stacked', 'bored', 'fried', 'turkeys', 'batton', 'tiger', 'lions', 'bears']}\n"
     ]
    }
   ],
   "source": [
    "dict = {\n",
    "    \"palindrome\": palindrome,\n",
    "    \"non-palindrome\": nonpalindrome\n",
    "}\n",
    "print(dict)"
   ]
  },
  {
   "cell_type": "code",
   "execution_count": 28,
   "metadata": {},
   "outputs": [
    {
     "name": "stdout",
     "output_type": "stream",
     "text": [
      "['gnirtS', 'elppa']\n"
     ]
    }
   ],
   "source": [
    "#reverse words in a list\n",
    "string = [\"String\",\"apple\"]\n",
    "words = []\n",
    "for word in string:\n",
    "    reverse_word = \"\".join(reversed(word))\n",
    "    words.append(reverse_word)\n",
    "\n",
    "print(words)"
   ]
  },
  {
   "cell_type": "code",
   "execution_count": null,
   "metadata": {},
   "outputs": [],
   "source": []
  }
 ],
 "metadata": {
  "kernelspec": {
   "display_name": "Python 3",
   "language": "python",
   "name": "python3"
  },
  "language_info": {
   "codemirror_mode": {
    "name": "ipython",
    "version": 3
   },
   "file_extension": ".py",
   "mimetype": "text/x-python",
   "name": "python",
   "nbconvert_exporter": "python",
   "pygments_lexer": "ipython3",
   "version": "3.8.5"
  }
 },
 "nbformat": 4,
 "nbformat_minor": 4
}
